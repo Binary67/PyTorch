{
 "cells": [
  {
   "cell_type": "code",
   "execution_count": 1,
   "metadata": {},
   "outputs": [],
   "source": [
    "import os\n",
    "import cv2\n",
    "import numpy as np\n",
    "from tqdm import tqdm\n",
    "import torch\n",
    "import torch.nn as nn\n",
    "import torch.nn.functional as F\n",
    "import torch.optim as optim\n",
    "import matplotlib.pyplot as plt"
   ]
  },
  {
   "cell_type": "code",
   "execution_count": 2,
   "metadata": {},
   "outputs": [
    {
     "name": "stdout",
     "output_type": "stream",
     "text": [
      "Running on GPU\n"
     ]
    }
   ],
   "source": [
    "REBUILD_DATE = False\n",
    "\n",
    "if torch.cuda.is_available():\n",
    "    DEVICE = torch.device('cuda:0')\n",
    "    print('Running on GPU')\n",
    "else:\n",
    "    DEVICE = torch.device('cpu')\n",
    "    print('Running on CPU')"
   ]
  },
  {
   "cell_type": "code",
   "execution_count": 3,
   "metadata": {},
   "outputs": [],
   "source": [
    "class CatsVsDogs():\n",
    "    IMAGE_SIZE = 50\n",
    "    CATS = 'PyTorch/Cat'\n",
    "    DOGS = 'PyTorch/Dog'\n",
    "    LABELS = {CATS : 0, DOGS : 1}\n",
    "    TRAINING_DATA = []\n",
    "    \n",
    "    CAT_COUNT = 0\n",
    "    DOG_COUNT = 0\n",
    "    \n",
    "    def Generate_Training_Data(self):\n",
    "        for LABEL in self.LABELS:\n",
    "            for FILE in tqdm(os.listdir(LABEL)):\n",
    "                if 'jpg' in FILE:\n",
    "                    try:\n",
    "                        PATH = os.path.join(LABEL, FILE)\n",
    "                        IMAGE = cv2.imread(PATH, cv2.IMREAD_GRAYSCALE)\n",
    "                        IMAGE = cv2.resize(IMAGE, (self.IMAGE_SIZE, self.IMAGE_SIZE))\n",
    "                        self.TRAINING_DATA.append([np.array(IMAGE), np.eye(2)[self.LABELS[LABEL]]])\n",
    "                        \n",
    "                        if LABEL == self.CATS:\n",
    "                            self.CAT_COUNT += 1\n",
    "                        elif LABEL == self.DOGS:\n",
    "                            self.DOG_COUNT += 1\n",
    "                            \n",
    "                    except Exception as e:\n",
    "                        pass\n",
    "                    \n",
    "        \n",
    "        np.random.shuffle(self.TRAINING_DATA)\n",
    "        np.save('TRAINING_DATA.npy', self.TRAINING_DATA)\n",
    "        print('Cat Count :', self.CAT_COUNT)\n",
    "        print('Dog Count :', self.DOG_COUNT)"
   ]
  },
  {
   "cell_type": "code",
   "execution_count": 4,
   "metadata": {},
   "outputs": [],
   "source": [
    "if REBUILD_DATE:\n",
    "    DATASET = CatsVsDogs()\n",
    "    DATASET.Generate_Training_Data()\n",
    "    \n",
    "TRAINING_DATA = np.load('TRAINING_DATA.npy', allow_pickle = True)"
   ]
  },
  {
   "cell_type": "code",
   "execution_count": 5,
   "metadata": {},
   "outputs": [],
   "source": [
    "class Net(nn.Module):\n",
    "    def __init__(self):\n",
    "        super().__init__()\n",
    "        self.CONV_1 = nn.Conv2d(1, 32, 5)\n",
    "        self.CONV_2 = nn.Conv2d(32, 64, 5)\n",
    "        self.CONV_3 = nn.Conv2d(64, 128, 5)\n",
    "        \n",
    "        DUMMY_DATA = torch.randn(50, 50).view(-1, 1, 50, 50)\n",
    "        self.To_Linear = None\n",
    "        self.Check_Dim(DUMMY_DATA)\n",
    "        \n",
    "        self.FC_1 = nn.Linear(self.To_Linear, 512)\n",
    "        self.FC_2 = nn.Linear(512, 2)\n",
    "        \n",
    "    def Check_Dim(self, X):\n",
    "        X = F.max_pool2d(F.relu(self.CONV_1(X)), (2, 2))\n",
    "        X = F.max_pool2d(F.relu(self.CONV_2(X)), (2, 2))\n",
    "        X = F.max_pool2d(F.relu(self.CONV_3(X)), (2, 2))\n",
    "        \n",
    "        if self.To_Linear is None:\n",
    "            self.To_Linear = X[0].shape[0] * X[0].shape[1] * X[0].shape[2]\n",
    "        \n",
    "        return X\n",
    "    \n",
    "    def forward(self, X):\n",
    "        X = self.Check_Dim(X)\n",
    "        X = X.view(-1, self.To_Linear)\n",
    "        X = F.relu(self.FC_1(X))\n",
    "        X = self.FC_2(X)\n",
    "        \n",
    "        return F.softmax(X, dim = 1)"
   ]
  },
  {
   "cell_type": "code",
   "execution_count": 6,
   "metadata": {},
   "outputs": [],
   "source": [
    "NEURAL_NET = Net().to(DEVICE)\n",
    "\n",
    "OPTIMIZER = optim.Adam(NEURAL_NET.parameters(), lr = 0.001)\n",
    "LOSS_FUNCTION = nn.MSELoss()\n",
    "\n",
    "X = torch.Tensor([i[0] for i in TRAINING_DATA]).view(-1, 1, 50, 50)\n",
    "X = X / 255.0\n",
    "Y = torch.Tensor([i[1] for i in TRAINING_DATA])\n",
    "\n",
    "VALIDATION_PERCENTAGE = 0.1\n",
    "VALIDATION_SIZE = int(len(X) * VALIDATION_PERCENTAGE)\n",
    "\n",
    "TRAIN_X = X[:-VALIDATION_SIZE]\n",
    "TRAIN_Y = Y[:-VALIDATION_SIZE]\n",
    "\n",
    "TEST_X = X[-VALIDATION_SIZE:]\n",
    "TEST_Y = Y[-VALIDATION_SIZE:]\n",
    "\n",
    "BATCH_SIZE = 100\n",
    "EPOCHS = 15"
   ]
  },
  {
   "cell_type": "code",
   "execution_count": 7,
   "metadata": {
    "scrolled": true
   },
   "outputs": [
    {
     "name": "stderr",
     "output_type": "stream",
     "text": [
      "100%|██████████| 450/450 [00:04<00:00, 90.35it/s] \n",
      "  3%|▎         | 12/450 [00:00<00:04, 109.38it/s]"
     ]
    },
    {
     "name": "stdout",
     "output_type": "stream",
     "text": [
      "EPOCH : 0  LOSS : tensor(0.3653, device='cuda:0', grad_fn=<MseLossBackward>)\n"
     ]
    },
    {
     "name": "stderr",
     "output_type": "stream",
     "text": [
      "100%|██████████| 450/450 [00:04<00:00, 108.23it/s]\n",
      "  5%|▍         | 22/450 [00:00<00:03, 108.90it/s]"
     ]
    },
    {
     "name": "stdout",
     "output_type": "stream",
     "text": [
      "EPOCH : 1  LOSS : tensor(0.0724, device='cuda:0', grad_fn=<MseLossBackward>)\n"
     ]
    },
    {
     "name": "stderr",
     "output_type": "stream",
     "text": [
      "100%|██████████| 450/450 [00:04<00:00, 107.83it/s]\n",
      "  2%|▏         | 11/450 [00:00<00:04, 109.22it/s]"
     ]
    },
    {
     "name": "stdout",
     "output_type": "stream",
     "text": [
      "EPOCH : 2  LOSS : tensor(0.0034, device='cuda:0', grad_fn=<MseLossBackward>)\n"
     ]
    },
    {
     "name": "stderr",
     "output_type": "stream",
     "text": [
      "100%|██████████| 450/450 [00:04<00:00, 108.00it/s]\n",
      "  3%|▎         | 12/450 [00:00<00:03, 110.39it/s]"
     ]
    },
    {
     "name": "stdout",
     "output_type": "stream",
     "text": [
      "EPOCH : 3  LOSS : tensor(0.0076, device='cuda:0', grad_fn=<MseLossBackward>)\n"
     ]
    },
    {
     "name": "stderr",
     "output_type": "stream",
     "text": [
      "100%|██████████| 450/450 [00:04<00:00, 103.94it/s]\n",
      "  2%|▏         | 10/450 [00:00<00:04, 95.15it/s]"
     ]
    },
    {
     "name": "stdout",
     "output_type": "stream",
     "text": [
      "EPOCH : 4  LOSS : tensor(4.8756e-05, device='cuda:0', grad_fn=<MseLossBackward>)\n"
     ]
    },
    {
     "name": "stderr",
     "output_type": "stream",
     "text": [
      "100%|██████████| 450/450 [00:04<00:00, 96.00it/s]\n",
      "  2%|▏         | 11/450 [00:00<00:04, 101.17it/s]"
     ]
    },
    {
     "name": "stdout",
     "output_type": "stream",
     "text": [
      "EPOCH : 5  LOSS : tensor(8.8534e-05, device='cuda:0', grad_fn=<MseLossBackward>)\n"
     ]
    },
    {
     "name": "stderr",
     "output_type": "stream",
     "text": [
      "100%|██████████| 450/450 [00:04<00:00, 98.68it/s]\n",
      "  4%|▍         | 20/450 [00:00<00:04, 99.97it/s]"
     ]
    },
    {
     "name": "stdout",
     "output_type": "stream",
     "text": [
      "EPOCH : 6  LOSS : tensor(0.0037, device='cuda:0', grad_fn=<MseLossBackward>)\n"
     ]
    },
    {
     "name": "stderr",
     "output_type": "stream",
     "text": [
      "100%|██████████| 450/450 [00:04<00:00, 99.13it/s]\n",
      "  2%|▏         | 11/450 [00:00<00:04, 102.45it/s]"
     ]
    },
    {
     "name": "stdout",
     "output_type": "stream",
     "text": [
      "EPOCH : 7  LOSS : tensor(9.7574e-07, device='cuda:0', grad_fn=<MseLossBackward>)\n"
     ]
    },
    {
     "name": "stderr",
     "output_type": "stream",
     "text": [
      "100%|██████████| 450/450 [00:04<00:00, 97.20it/s]\n",
      "  2%|▏         | 11/450 [00:00<00:04, 101.25it/s]"
     ]
    },
    {
     "name": "stdout",
     "output_type": "stream",
     "text": [
      "EPOCH : 8  LOSS : tensor(2.0998e-05, device='cuda:0', grad_fn=<MseLossBackward>)\n"
     ]
    },
    {
     "name": "stderr",
     "output_type": "stream",
     "text": [
      "100%|██████████| 450/450 [00:04<00:00, 99.12it/s] \n",
      "  2%|▏         | 11/450 [00:00<00:04, 101.99it/s]"
     ]
    },
    {
     "name": "stdout",
     "output_type": "stream",
     "text": [
      "EPOCH : 9  LOSS : tensor(5.2084e-06, device='cuda:0', grad_fn=<MseLossBackward>)\n"
     ]
    },
    {
     "name": "stderr",
     "output_type": "stream",
     "text": [
      "100%|██████████| 450/450 [00:04<00:00, 99.30it/s] \n",
      "  2%|▏         | 10/450 [00:00<00:04, 96.52it/s]"
     ]
    },
    {
     "name": "stdout",
     "output_type": "stream",
     "text": [
      "EPOCH : 10  LOSS : tensor(3.4305e-05, device='cuda:0', grad_fn=<MseLossBackward>)\n"
     ]
    },
    {
     "name": "stderr",
     "output_type": "stream",
     "text": [
      "100%|██████████| 450/450 [00:04<00:00, 98.11it/s]\n",
      "  2%|▏         | 11/450 [00:00<00:04, 100.52it/s]"
     ]
    },
    {
     "name": "stdout",
     "output_type": "stream",
     "text": [
      "EPOCH : 11  LOSS : tensor(1.6536e-11, device='cuda:0', grad_fn=<MseLossBackward>)\n"
     ]
    },
    {
     "name": "stderr",
     "output_type": "stream",
     "text": [
      "100%|██████████| 450/450 [00:04<00:00, 98.56it/s]\n",
      "  2%|▏         | 10/450 [00:00<00:04, 99.51it/s]"
     ]
    },
    {
     "name": "stdout",
     "output_type": "stream",
     "text": [
      "EPOCH : 12  LOSS : tensor(1.0939e-08, device='cuda:0', grad_fn=<MseLossBackward>)\n"
     ]
    },
    {
     "name": "stderr",
     "output_type": "stream",
     "text": [
      "100%|██████████| 450/450 [00:04<00:00, 98.80it/s] \n",
      "  2%|▏         | 11/450 [00:00<00:04, 101.79it/s]"
     ]
    },
    {
     "name": "stdout",
     "output_type": "stream",
     "text": [
      "EPOCH : 13  LOSS : tensor(2.2318e-08, device='cuda:0', grad_fn=<MseLossBackward>)\n"
     ]
    },
    {
     "name": "stderr",
     "output_type": "stream",
     "text": [
      "100%|██████████| 450/450 [00:04<00:00, 98.17it/s]"
     ]
    },
    {
     "name": "stdout",
     "output_type": "stream",
     "text": [
      "EPOCH : 14  LOSS : tensor(1.2054e-06, device='cuda:0', grad_fn=<MseLossBackward>)\n"
     ]
    },
    {
     "name": "stderr",
     "output_type": "stream",
     "text": [
      "\n"
     ]
    }
   ],
   "source": [
    "def Train(NEURAL_NET):\n",
    "    for EPOCH in range(EPOCHS):\n",
    "        for i in tqdm(range(0, len(TRAIN_X), BATCH_SIZE)):\n",
    "            BATCH_X = TRAIN_X[i : i + BATCH_SIZE]\n",
    "            BATCH_Y = TRAIN_Y[i : i + BATCH_SIZE]\n",
    "            \n",
    "            BATCH_X, BATCH_Y = BATCH_X.to(DEVICE), BATCH_Y.to(DEVICE)\n",
    "            \n",
    "            NEURAL_NET.zero_grad()\n",
    "            \n",
    "            OUTPUTS = NEURAL_NET(BATCH_X)\n",
    "            LOSS = LOSS_FUNCTION(OUTPUTS, BATCH_Y)\n",
    "            LOSS.backward()\n",
    "            OPTIMIZER.step()\n",
    "            \n",
    "        print('EPOCH :', EPOCH, ' LOSS :', LOSS)\n",
    "        \n",
    "Train(NEURAL_NET)"
   ]
  },
  {
   "cell_type": "code",
   "execution_count": 8,
   "metadata": {},
   "outputs": [
    {
     "name": "stderr",
     "output_type": "stream",
     "text": [
      "100%|██████████| 4989/4989 [00:06<00:00, 722.80it/s]"
     ]
    },
    {
     "name": "stdout",
     "output_type": "stream",
     "text": [
      "ACCURACT : 0.926\n"
     ]
    },
    {
     "name": "stderr",
     "output_type": "stream",
     "text": [
      "\n"
     ]
    }
   ],
   "source": [
    "TEST_X.to(DEVICE)\n",
    "TEST_Y.to(DEVICE)\n",
    "\n",
    "def Test(NEURAL_NET):\n",
    "    CORRECT = 0\n",
    "    TOTAL = 0\n",
    "    \n",
    "    with torch.no_grad():\n",
    "        for i in tqdm(range(len(TEST_X))):\n",
    "            ACTUAL_CLASS = torch.argmax(TEST_Y[i]).to(DEVICE)\n",
    "            PREDICTED_OUTPUT = NEURAL_NET(TEST_X[i].view(-1, 1, 50, 50).to(DEVICE))[0]\n",
    "            PREDICTED_CLASS = torch.argmax(PREDICTED_OUTPUT)\n",
    "            \n",
    "            if PREDICTED_CLASS == ACTUAL_CLASS:\n",
    "                CORRECT += 1\n",
    "                \n",
    "            TOTAL += 1\n",
    "            \n",
    "    print('ACCURACT :', round(CORRECT / TOTAL, 3 ))\n",
    "    \n",
    "Test(NEURAL_NET)"
   ]
  },
  {
   "cell_type": "code",
   "execution_count": null,
   "metadata": {},
   "outputs": [],
   "source": []
  }
 ],
 "metadata": {
  "kernelspec": {
   "display_name": "Python 3",
   "language": "python",
   "name": "python3"
  },
  "language_info": {
   "codemirror_mode": {
    "name": "ipython",
    "version": 3
   },
   "file_extension": ".py",
   "mimetype": "text/x-python",
   "name": "python",
   "nbconvert_exporter": "python",
   "pygments_lexer": "ipython3",
   "version": "3.7.5"
  }
 },
 "nbformat": 4,
 "nbformat_minor": 2
}
