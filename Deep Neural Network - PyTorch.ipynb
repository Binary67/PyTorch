{
 "cells": [
  {
   "cell_type": "code",
   "execution_count": 1,
   "metadata": {},
   "outputs": [],
   "source": [
    "import torch\n",
    "from torch.autograd import Variable\n",
    "import numpy as np"
   ]
  },
  {
   "cell_type": "code",
   "execution_count": 2,
   "metadata": {},
   "outputs": [],
   "source": [
    "class Linear_Model(torch.nn.Module):\n",
    "    def __init__(self, INPUT_SIZE, HIDDEN_SIZE, OUTPUT_SIZE):\n",
    "        super(Linear_Model, self).__init__()\n",
    "        self.Layer_1 = torch.nn.Linear(INPUT_SIZE, HIDDEN_SIZE)\n",
    "        self.Layer_2 = torch.nn.Linear(HIDDEN_SIZE, OUTPUT_SIZE)\n",
    "        \n",
    "    def Forward(self, INPUT):\n",
    "        OUTPUT = self.Layer_1(INPUT)\n",
    "        OUTPUT = torch.nn.functional.relu(OUTPUT)\n",
    "        OUTPUT = self.Layer_2(OUTPUT)\n",
    "        \n",
    "        return OUTPUT"
   ]
  },
  {
   "cell_type": "code",
   "execution_count": 3,
   "metadata": {},
   "outputs": [
    {
     "name": "stdout",
     "output_type": "stream",
     "text": [
      "torch.Size([100, 1])\n"
     ]
    }
   ],
   "source": [
    "DEVICE = torch.device(\"cuda:0\" if torch.cuda.is_available() else \"cpu\")\n",
    "\n",
    "X_TRAIN = np.arange(0, 1, 0.01).reshape(-1, 1)\n",
    "Y_TRAIN = (X_TRAIN * 0.3 + 1).reshape(-1, 1)\n",
    "\n",
    "# Pytorch Variable\n",
    "X = Variable(torch.from_numpy(X_TRAIN).type(torch.FloatTensor))\n",
    "Y = Variable(torch.from_numpy(Y_TRAIN).type(torch.FloatTensor))\n",
    "X.to(DEVICE)\n",
    "Y.to(DEVICE)\n",
    "\n",
    "print(X.shape)"
   ]
  },
  {
   "cell_type": "code",
   "execution_count": 4,
   "metadata": {},
   "outputs": [],
   "source": [
    "MODEL = Linear_Model(1, 5, 1)\n",
    "CRITERION = torch.nn.MSELoss()\n",
    "OPTIMIZER = torch.optim.SGD(MODEL.parameters(), lr = 0.05)"
   ]
  },
  {
   "cell_type": "code",
   "execution_count": 5,
   "metadata": {},
   "outputs": [
    {
     "name": "stdout",
     "output_type": "stream",
     "text": [
      "Final Loss = tensor(0.0002, grad_fn=<MseLossBackward>)\n"
     ]
    }
   ],
   "source": [
    "for EPOCH in range(100):\n",
    "    PREDICTION = MODEL.Forward(X)\n",
    "    LOSS = CRITERION(PREDICTION, Y)\n",
    "    OPTIMIZER.zero_grad()\n",
    "    LOSS.backward()\n",
    "    OPTIMIZER.step()\n",
    "    \n",
    "print('Final Loss =', LOSS)"
   ]
  },
  {
   "cell_type": "code",
   "execution_count": 6,
   "metadata": {},
   "outputs": [
    {
     "name": "stdout",
     "output_type": "stream",
     "text": [
      "tensor([[1.5349]], grad_fn=<AddmmBackward>)\n"
     ]
    }
   ],
   "source": [
    "TEST_VALUE = Variable(torch.Tensor([[1.25]])) \n",
    "NEW_PREDICTION = MODEL.Forward(TEST_VALUE) \n",
    "print(NEW_PREDICTION)"
   ]
  },
  {
   "cell_type": "code",
   "execution_count": null,
   "metadata": {},
   "outputs": [],
   "source": []
  }
 ],
 "metadata": {
  "kernelspec": {
   "display_name": "Python 3",
   "language": "python",
   "name": "python3"
  },
  "language_info": {
   "codemirror_mode": {
    "name": "ipython",
    "version": 3
   },
   "file_extension": ".py",
   "mimetype": "text/x-python",
   "name": "python",
   "nbconvert_exporter": "python",
   "pygments_lexer": "ipython3",
   "version": "3.7.3"
  }
 },
 "nbformat": 4,
 "nbformat_minor": 2
}
